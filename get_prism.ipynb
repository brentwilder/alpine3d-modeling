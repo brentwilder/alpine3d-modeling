{
  "nbformat": 4,
  "nbformat_minor": 0,
  "metadata": {
    "colab": {
      "name": "get_prism.ipynb",
      "provenance": [],
      "collapsed_sections": [],
      "mount_file_id": "1O_mGNHo-X2Bro7o2GsLt7LHPB_1dCwKr",
      "authorship_tag": "ABX9TyPbo7oCQ2UiQMd0KLfgRHR6",
      "include_colab_link": true
    },
    "kernelspec": {
      "name": "python3",
      "display_name": "Python 3"
    },
    "language_info": {
      "name": "python"
    }
  },
  "cells": [
    {
      "cell_type": "markdown",
      "metadata": {
        "id": "view-in-github",
        "colab_type": "text"
      },
      "source": [
        "<a href=\"https://colab.research.google.com/github/brentwilder/alpine3d-modeling/blob/main/get_prism.ipynb\" target=\"_parent\"><img src=\"https://colab.research.google.com/assets/colab-badge.svg\" alt=\"Open In Colab\"/></a>"
      ]
    },
    {
      "cell_type": "markdown",
      "source": [
        "# Download PRISM data from GEE\n",
        "\n"
      ],
      "metadata": {
        "id": "34j8JzByuAt2"
      }
    },
    {
      "cell_type": "code",
      "execution_count": null,
      "metadata": {
        "id": "dWZeJWKnouwM"
      },
      "outputs": [],
      "source": [
        "# Run all of the things needed to get GEE going in colab\n",
        "!pip install -q earthengine-api\n",
        "!earthengine authenticate\n",
        "!pip install -q geemap\n",
        "from google.colab import auth\n",
        "auth.authenticate_user()\n",
        "import ee\n",
        "ee.Initialize()\n",
        "import geemap "
      ]
    },
    {
      "cell_type": "code",
      "source": [
        "# Define study domain\n",
        "ulx = -117\n",
        "uly = 45\n",
        "lrx = -114\n",
        "lry = 43\n",
        "area = ee.Feature(ee.Geometry.Rectangle(ulx,lry,lrx,uly))"
      ],
      "metadata": {
        "id": "puII-PYx19Ip"
      },
      "execution_count": null,
      "outputs": []
    },
    {
      "cell_type": "code",
      "source": [
        "# Call data from earth engine\n",
        "def clip(image):\n",
        "  return image.clip(area)\n",
        "\n",
        "collection = ee.ImageCollection('OREGONSTATE/PRISM/AN81m').select('tmean').filterDate('1981-10-01', '2021-10-01').map(clip)"
      ],
      "metadata": {
        "id": "bc27ChYj-cdy"
      },
      "execution_count": null,
      "outputs": []
    },
    {
      "cell_type": "code",
      "source": [
        "# Download the data\n",
        "collection.aggregate_array('system:index').getInfo()\n",
        "geemap.ee_export_image_collection_to_drive(collection, folder='get_prism',crs='EPSG:4326',scale=4000)"
      ],
      "metadata": {
        "id": "VjcQiQKg_bA5"
      },
      "execution_count": null,
      "outputs": []
    },
    {
      "cell_type": "code",
      "source": [
        "# in case I need to cancel jobs\n",
        "!earthengine task cancel all"
      ],
      "metadata": {
        "id": "vh1d3jcIBBJt"
      },
      "execution_count": null,
      "outputs": []
    },
    {
      "cell_type": "code",
      "source": [
        "# Convert all the GEE tif outputs to nc\n",
        "import os\n",
        "import gdal\n",
        "\n",
        "inputfolder = './prism_tif'\n",
        "outputfolder = './prism_nc'\n",
        "\n",
        "for file in os.listdir('./prism_tif'):\n",
        "     filename = os.fsdecode(file)\n",
        "     if filename.endswith('.tif'):\n",
        "         inputfile = inputfolder+'/'+file\n",
        "         datestring = file[:-3]\n",
        "         nctype = 'nc'\n",
        "         outputfile = outputfolder+'/'+datestring+nctype\n",
        "         ds = gdal.Translate(outputfile, inputfile, format='NetCDF')"
      ],
      "metadata": {
        "id": "LqnmgS47nK1e"
      },
      "execution_count": null,
      "outputs": []
    }
  ]
}
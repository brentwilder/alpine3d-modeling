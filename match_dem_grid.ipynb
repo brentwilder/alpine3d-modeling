{
 "cells": [
  {
   "cell_type": "markdown",
   "metadata": {},
   "source": [
    "# Match Forcing to DEM Grid\n",
    "#### This is going to result in a very large amount of data for each forcing (a few TB).\n",
    "#### So, instead of looping through each one, my plan is to run this notebook manually and then output the finalized variables to a portable hard drive for now..."
   ]
  },
  {
   "cell_type": "code",
   "execution_count": null,
   "metadata": {},
   "outputs": [],
   "source": [
    "# CHANGE VARIABLE HERE\n",
    "var = 'ISWR'"
   ]
  },
  {
   "cell_type": "code",
   "execution_count": null,
   "metadata": {},
   "outputs": [],
   "source": [
    "# Run code after variable is changed...\n",
    "# This is matching the scale and extent of my DEM nc file (which is 0.001 degrees for my study)\n",
    "import os\n",
    "os.system('ncremap -d ./dem/dem_model100.nc ./computed_forcings/ISWR/a3d'+var+'.nc ./computed_forcings/ISWR/a3d'+var+'_001.nc')"
   ]
  }
 ],
 "metadata": {
  "language_info": {
   "name": "python"
  },
  "orig_nbformat": 4
 },
 "nbformat": 4,
 "nbformat_minor": 2
}
